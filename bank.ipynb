{
 "cells": [
  {
   "cell_type": "code",
   "execution_count": 30,
   "metadata": {},
   "outputs": [],
   "source": [
    "import pandas as pd\n",
    "import numpy as np\n",
    "import seaborn as sns\n",
    "import matplotlib.pyplot as plt\n",
    "from sklearn.compose import ColumnTransformer\n",
    "from sklearn.model_selection import train_test_split\n",
    "from sklearn.preprocessing import LabelEncoder, OneHotEncoder, StandardScaler\n",
    "from sklearn.svm import SVC, LinearSVC\n",
    "from sklearn.neighbors import KNeighborsClassifier\n",
    "from sklearn import metrics\n",
    "from sklearn import preprocessing\n",
    "from tensorflow.keras.models import Sequential\n",
    "from tensorflow.keras.layers import Dense\n",
    "from sklearn.metrics import confusion_matrix,classification_report\n"
   ]
  },
  {
   "cell_type": "code",
   "execution_count": 4,
   "metadata": {},
   "outputs": [
    {
     "name": "stdout",
     "output_type": "stream",
     "text": [
      "<class 'pandas.core.frame.DataFrame'>\n",
      "RangeIndex: 10000 entries, 0 to 9999\n",
      "Data columns (total 14 columns):\n",
      " #   Column           Non-Null Count  Dtype  \n",
      "---  ------           --------------  -----  \n",
      " 0   RowNumber        10000 non-null  int64  \n",
      " 1   CustomerId       10000 non-null  int64  \n",
      " 2   Surname          10000 non-null  object \n",
      " 3   CreditScore      10000 non-null  int64  \n",
      " 4   Geography        10000 non-null  object \n",
      " 5   Gender           10000 non-null  object \n",
      " 6   Age              10000 non-null  int64  \n",
      " 7   Tenure           10000 non-null  int64  \n",
      " 8   Balance          10000 non-null  float64\n",
      " 9   NumOfProducts    10000 non-null  int64  \n",
      " 10  HasCrCard        10000 non-null  int64  \n",
      " 11  IsActiveMember   10000 non-null  int64  \n",
      " 12  EstimatedSalary  10000 non-null  float64\n",
      " 13  Exited           10000 non-null  int64  \n",
      "dtypes: float64(2), int64(9), object(3)\n",
      "memory usage: 1.1+ MB\n"
     ]
    }
   ],
   "source": [
    "df = pd.read_csv('bank.csv')\n",
    "df.info()"
   ]
  },
  {
   "cell_type": "code",
   "execution_count": 5,
   "metadata": {},
   "outputs": [
    {
     "data": {
      "text/plain": [
       "CreditScore        0\n",
       "Geography          0\n",
       "Gender             0\n",
       "Age                0\n",
       "Tenure             0\n",
       "Balance            0\n",
       "NumOfProducts      0\n",
       "HasCrCard          0\n",
       "IsActiveMember     0\n",
       "EstimatedSalary    0\n",
       "Exited             0\n",
       "dtype: int64"
      ]
     },
     "execution_count": 5,
     "metadata": {},
     "output_type": "execute_result"
    }
   ],
   "source": [
    "df.drop(columns=['RowNumber', 'CustomerId', 'Surname'], inplace=True)\n",
    "df.isna().sum()"
   ]
  },
  {
   "cell_type": "code",
   "execution_count": 6,
   "metadata": {},
   "outputs": [],
   "source": [
    "#SEPERATEING THE FEATURES AND THE LABELS"
   ]
  },
  {
   "cell_type": "code",
   "execution_count": 7,
   "metadata": {},
   "outputs": [
    {
     "data": {
      "text/plain": [
       "((10000, 10), (10000,))"
      ]
     },
     "execution_count": 7,
     "metadata": {},
     "output_type": "execute_result"
    }
   ],
   "source": [
    "X=df.iloc[:, :df.shape[1]-1].values       #Independent Variables\n",
    "y=df.iloc[:, -1].values                   #Dependent Variable\n",
    "X.shape, y.shape"
   ]
  },
  {
   "cell_type": "code",
   "execution_count": 8,
   "metadata": {},
   "outputs": [
    {
     "name": "stdout",
     "output_type": "stream",
     "text": [
      "['France' 'Spain' 'France' 'France' 'Spain' 'Spain' 'France' 'Germany'] ... will now become: \n",
      "[0 2 0 0 2 2 0 1]\n"
     ]
    }
   ],
   "source": [
    "print(X[:8,1], '... will now become: ')\n",
    "\n",
    "label_X_country_encoder = LabelEncoder()\n",
    "X[:,1] = label_X_country_encoder.fit_transform(X[:,1])\n",
    "print(X[:8,1])"
   ]
  },
  {
   "cell_type": "code",
   "execution_count": 9,
   "metadata": {},
   "outputs": [
    {
     "name": "stdout",
     "output_type": "stream",
     "text": [
      "['Female' 'Female' 'Female' 'Female' 'Female' 'Male'] ... will now become: \n",
      "[0 0 0 0 0 1]\n"
     ]
    }
   ],
   "source": [
    "print(X[:6,2], '... will now become: ')\n",
    "\n",
    "label_X_gender_encoder = LabelEncoder()\n",
    "X[:,2] = label_X_gender_encoder.fit_transform(X[:,2])\n",
    "print(X[:6,2])"
   ]
  },
  {
   "cell_type": "code",
   "execution_count": 10,
   "metadata": {},
   "outputs": [],
   "source": [
    "#Split the countries into respective dimensions. Converting the string features into their own dimensions."
   ]
  },
  {
   "cell_type": "code",
   "execution_count": 11,
   "metadata": {},
   "outputs": [
    {
     "data": {
      "text/plain": [
       "array([[1.0, 0.0, 0.0, ..., 1, 1, 101348.88],\n",
       "       [0.0, 0.0, 1.0, ..., 0, 1, 112542.58],\n",
       "       [1.0, 0.0, 0.0, ..., 1, 0, 113931.57],\n",
       "       ...,\n",
       "       [1.0, 0.0, 0.0, ..., 0, 1, 42085.58],\n",
       "       [0.0, 1.0, 0.0, ..., 1, 0, 92888.52],\n",
       "       [1.0, 0.0, 0.0, ..., 1, 0, 38190.78]], dtype=object)"
      ]
     },
     "execution_count": 11,
     "metadata": {},
     "output_type": "execute_result"
    }
   ],
   "source": [
    "transform = ColumnTransformer([(\"countries\", OneHotEncoder(), [1])], remainder=\"passthrough\") # 1 is the country column\n",
    "X = transform.fit_transform(X)\n",
    "X"
   ]
  },
  {
   "cell_type": "code",
   "execution_count": 13,
   "metadata": {},
   "outputs": [],
   "source": [
    "#Dimensionality reduction. A 0 on two countries means that the country has to be the one variable which wasn't included"
   ]
  },
  {
   "cell_type": "code",
   "execution_count": 14,
   "metadata": {},
   "outputs": [
    {
     "data": {
      "text/plain": [
       "(10000, 11)"
      ]
     },
     "execution_count": 14,
     "metadata": {},
     "output_type": "execute_result"
    }
   ],
   "source": [
    "X = X[:,1:]\n",
    "X.shape"
   ]
  },
  {
   "cell_type": "code",
   "execution_count": 15,
   "metadata": {},
   "outputs": [],
   "source": [
    "#Splitting the Dataset"
   ]
  },
  {
   "cell_type": "code",
   "execution_count": 16,
   "metadata": {},
   "outputs": [],
   "source": [
    "X_train, X_test, y_train, y_test = train_test_split(X, y, test_size=0.2, random_state=0)"
   ]
  },
  {
   "cell_type": "code",
   "execution_count": 17,
   "metadata": {},
   "outputs": [
    {
     "data": {
      "text/plain": [
       "array([[-0.5698444 ,  1.74309049,  0.16958176, ...,  0.64259497,\n",
       "        -1.03227043,  1.10643166],\n",
       "       [ 1.75486502, -0.57369368, -2.30455945, ...,  0.64259497,\n",
       "         0.9687384 , -0.74866447],\n",
       "       [-0.5698444 , -0.57369368, -1.19119591, ...,  0.64259497,\n",
       "        -1.03227043,  1.48533467],\n",
       "       ...,\n",
       "       [-0.5698444 , -0.57369368,  0.9015152 , ...,  0.64259497,\n",
       "        -1.03227043,  1.41231994],\n",
       "       [-0.5698444 ,  1.74309049, -0.62420521, ...,  0.64259497,\n",
       "         0.9687384 ,  0.84432121],\n",
       "       [ 1.75486502, -0.57369368, -0.28401079, ...,  0.64259497,\n",
       "        -1.03227043,  0.32472465]])"
      ]
     },
     "execution_count": 17,
     "metadata": {},
     "output_type": "execute_result"
    }
   ],
   "source": [
    "sc=StandardScaler()\n",
    "X_train[:,np.array([2,4,5,6,7,10])] = sc.fit_transform(X_train[:,np.array([2,4,5,6,7,10])])\n",
    "X_test[:,np.array([2,4,5,6,7,10])] = sc.transform(X_test[:,np.array([2,4,5,6,7,10])])\n",
    "sc=StandardScaler()\n",
    "X_train = sc.fit_transform(X_train)\n",
    "X_test = sc.transform(X_test)\n",
    "X_train"
   ]
  },
  {
   "cell_type": "code",
   "execution_count": 18,
   "metadata": {},
   "outputs": [],
   "source": [
    "#Initialize & build the model"
   ]
  },
  {
   "cell_type": "code",
   "execution_count": 22,
   "metadata": {},
   "outputs": [],
   "source": [
    "# Initializing the ANN\n",
    "classifier = Sequential()"
   ]
  },
  {
   "cell_type": "code",
   "execution_count": 23,
   "metadata": {},
   "outputs": [],
   "source": [
    "# The amount of nodes (dimensions) in hidden layer should be the average of input and output layers, in this case 6.\n",
    "# This adds the input layer (by specifying input dimension) AND the first hidden layer (units)\n",
    "classifier.add(Dense(activation = 'relu', input_dim = 11, units=256, kernel_initializer='uniform'))"
   ]
  },
  {
   "cell_type": "code",
   "execution_count": 24,
   "metadata": {},
   "outputs": [],
   "source": [
    "# Adding the hidden layer\n",
    "classifier.add(Dense(activation = 'relu', units=512, kernel_initializer='uniform'))\n",
    "classifier.add(Dense(activation = 'relu', units=256, kernel_initializer='uniform'))\n",
    "classifier.add(Dense(activation = 'relu', units=128, kernel_initializer='uniform'))"
   ]
  },
  {
   "cell_type": "code",
   "execution_count": 25,
   "metadata": {},
   "outputs": [],
   "source": [
    "# Adding the output layer\n",
    "# Notice that we do not need to specify input dim. \n",
    "# we have an output of 1 node, which is the the desired dimensions of our output (stay with the bank or not)\n",
    "# We use the sigmoid because we want probability outcomes\n",
    "classifier.add(Dense(activation = 'sigmoid', units=1, kernel_initializer='uniform'))"
   ]
  },
  {
   "cell_type": "code",
   "execution_count": 26,
   "metadata": {},
   "outputs": [
    {
     "name": "stdout",
     "output_type": "stream",
     "text": [
      "Model: \"sequential_1\"\n",
      "_________________________________________________________________\n",
      " Layer (type)                Output Shape              Param #   \n",
      "=================================================================\n",
      " dense (Dense)               (None, 256)               3072      \n",
      "                                                                 \n",
      " dense_1 (Dense)             (None, 512)               131584    \n",
      "                                                                 \n",
      " dense_2 (Dense)             (None, 256)               131328    \n",
      "                                                                 \n",
      " dense_3 (Dense)             (None, 128)               32896     \n",
      "                                                                 \n",
      " dense_4 (Dense)             (None, 1)                 129       \n",
      "                                                                 \n",
      "=================================================================\n",
      "Total params: 299009 (1.14 MB)\n",
      "Trainable params: 299009 (1.14 MB)\n",
      "Non-trainable params: 0 (0.00 Byte)\n",
      "_________________________________________________________________\n"
     ]
    }
   ],
   "source": [
    "# Create optimizer with default learning rate\n",
    "# sgd_optimizer = tf.keras.optimizers.SGD()\n",
    "# Compile the model\n",
    "classifier.compile(optimizer='adam', loss='binary_crossentropy', metrics=['accuracy'])\n",
    "classifier.summary()"
   ]
  },
  {
   "cell_type": "code",
   "execution_count": 27,
   "metadata": {},
   "outputs": [
    {
     "name": "stdout",
     "output_type": "stream",
     "text": [
      "Epoch 1/20\n",
      "250/250 [==============================] - 3s 6ms/step - loss: 0.4273 - accuracy: 0.8191 - val_loss: 0.3591 - val_accuracy: 0.8545\n",
      "Epoch 2/20\n",
      "250/250 [==============================] - 1s 4ms/step - loss: 0.3585 - accuracy: 0.8541 - val_loss: 0.3445 - val_accuracy: 0.8595\n",
      "Epoch 3/20\n",
      "250/250 [==============================] - 1s 5ms/step - loss: 0.3497 - accuracy: 0.8558 - val_loss: 0.3451 - val_accuracy: 0.8655\n",
      "Epoch 4/20\n",
      "250/250 [==============================] - 1s 5ms/step - loss: 0.3407 - accuracy: 0.8608 - val_loss: 0.3394 - val_accuracy: 0.8665\n",
      "Epoch 5/20\n",
      "250/250 [==============================] - 1s 4ms/step - loss: 0.3388 - accuracy: 0.8612 - val_loss: 0.3617 - val_accuracy: 0.8610\n",
      "Epoch 6/20\n",
      "250/250 [==============================] - 1s 4ms/step - loss: 0.3386 - accuracy: 0.8643 - val_loss: 0.3331 - val_accuracy: 0.8620\n",
      "Epoch 7/20\n",
      "250/250 [==============================] - 1s 4ms/step - loss: 0.3327 - accuracy: 0.8630 - val_loss: 0.3477 - val_accuracy: 0.8605\n",
      "Epoch 8/20\n",
      "250/250 [==============================] - 1s 4ms/step - loss: 0.3301 - accuracy: 0.8656 - val_loss: 0.3377 - val_accuracy: 0.8625\n",
      "Epoch 9/20\n",
      "250/250 [==============================] - 1s 5ms/step - loss: 0.3278 - accuracy: 0.8677 - val_loss: 0.3391 - val_accuracy: 0.8555\n",
      "Epoch 10/20\n",
      "250/250 [==============================] - 1s 5ms/step - loss: 0.3232 - accuracy: 0.8684 - val_loss: 0.3371 - val_accuracy: 0.8600\n",
      "Epoch 11/20\n",
      "250/250 [==============================] - 1s 5ms/step - loss: 0.3182 - accuracy: 0.8699 - val_loss: 0.3412 - val_accuracy: 0.8600\n",
      "Epoch 12/20\n",
      "250/250 [==============================] - 1s 4ms/step - loss: 0.3164 - accuracy: 0.8717 - val_loss: 0.3455 - val_accuracy: 0.8690\n",
      "Epoch 13/20\n",
      "250/250 [==============================] - 1s 4ms/step - loss: 0.3136 - accuracy: 0.8731 - val_loss: 0.3534 - val_accuracy: 0.8565\n",
      "Epoch 14/20\n",
      "250/250 [==============================] - 1s 3ms/step - loss: 0.3110 - accuracy: 0.8746 - val_loss: 0.3543 - val_accuracy: 0.8575\n",
      "Epoch 15/20\n",
      "250/250 [==============================] - 1s 4ms/step - loss: 0.3044 - accuracy: 0.8775 - val_loss: 0.3497 - val_accuracy: 0.8530\n",
      "Epoch 16/20\n",
      "250/250 [==============================] - 1s 3ms/step - loss: 0.2979 - accuracy: 0.8791 - val_loss: 0.3577 - val_accuracy: 0.8610\n",
      "Epoch 17/20\n",
      "250/250 [==============================] - 1s 3ms/step - loss: 0.2969 - accuracy: 0.8799 - val_loss: 0.3627 - val_accuracy: 0.8585\n",
      "Epoch 18/20\n",
      "250/250 [==============================] - 1s 3ms/step - loss: 0.2862 - accuracy: 0.8817 - val_loss: 0.3641 - val_accuracy: 0.8530\n",
      "Epoch 19/20\n",
      "250/250 [==============================] - 1s 5ms/step - loss: 0.2821 - accuracy: 0.8855 - val_loss: 0.3607 - val_accuracy: 0.8655\n",
      "Epoch 20/20\n",
      "250/250 [==============================] - 1s 5ms/step - loss: 0.2789 - accuracy: 0.8840 - val_loss: 0.3593 - val_accuracy: 0.8570\n"
     ]
    },
    {
     "data": {
      "text/plain": [
       "<keras.src.callbacks.History at 0x1dcebe61630>"
      ]
     },
     "execution_count": 27,
     "metadata": {},
     "output_type": "execute_result"
    }
   ],
   "source": [
    "classifier.fit(\n",
    "    X_train, y_train,           \n",
    "    validation_data=(X_test,y_test),\n",
    "    epochs=20,\n",
    "    batch_size=32\n",
    ")"
   ]
  },
  {
   "cell_type": "code",
   "execution_count": 28,
   "metadata": {},
   "outputs": [
    {
     "name": "stdout",
     "output_type": "stream",
     "text": [
      "63/63 [==============================] - 0s 3ms/step\n"
     ]
    },
    {
     "data": {
      "text/plain": [
       "array([[0.39999917],\n",
       "       [0.15176404],\n",
       "       [0.17040408],\n",
       "       ...,\n",
       "       [0.00941522],\n",
       "       [0.3055907 ],\n",
       "       [0.07897887]], dtype=float32)"
      ]
     },
     "execution_count": 28,
     "metadata": {},
     "output_type": "execute_result"
    }
   ],
   "source": [
    "y_pred = classifier.predict(X_test)\n",
    "y_pred"
   ]
  },
  {
   "cell_type": "code",
   "execution_count": 29,
   "metadata": {},
   "outputs": [
    {
     "data": {
      "text/plain": [
       "array([[False],\n",
       "       [False],\n",
       "       [False],\n",
       "       ...,\n",
       "       [False],\n",
       "       [False],\n",
       "       [False]])"
      ]
     },
     "execution_count": 29,
     "metadata": {},
     "output_type": "execute_result"
    }
   ],
   "source": [
    "# To use the confusion Matrix, we need to convert the probabilities that a customer will leave the bank into the form true or false. \n",
    "# So we will use the cutoff value 0.5 to indicate whether they are likely to exit or not.\n",
    "y_pred = (y_pred > 0.5)\n",
    "y_pred"
   ]
  },
  {
   "cell_type": "code",
   "execution_count": 31,
   "metadata": {},
   "outputs": [
    {
     "data": {
      "text/plain": [
       "array([[1528,   67],\n",
       "       [ 219,  186]], dtype=int64)"
      ]
     },
     "execution_count": 31,
     "metadata": {},
     "output_type": "execute_result"
    }
   ],
   "source": [
    "cm1 = confusion_matrix(y_test, y_pred)\n",
    "cm1"
   ]
  },
  {
   "cell_type": "code",
   "execution_count": 32,
   "metadata": {},
   "outputs": [
    {
     "name": "stdout",
     "output_type": "stream",
     "text": [
      "              precision    recall  f1-score   support\n",
      "\n",
      "           0       0.87      0.96      0.91      1595\n",
      "           1       0.74      0.46      0.57       405\n",
      "\n",
      "    accuracy                           0.86      2000\n",
      "   macro avg       0.80      0.71      0.74      2000\n",
      "weighted avg       0.85      0.86      0.84      2000\n",
      "\n"
     ]
    }
   ],
   "source": [
    "print(classification_report(y_test, y_pred))"
   ]
  },
  {
   "cell_type": "code",
   "execution_count": 33,
   "metadata": {},
   "outputs": [
    {
     "name": "stdout",
     "output_type": "stream",
     "text": [
      "85.7 % of testing data was classified correctly\n"
     ]
    }
   ],
   "source": [
    "accuracy_model1 = ((cm1[0][0]+cm1[1][1])*100)/(cm1[0][0]+cm1[1][1]+cm1[0][1]+cm1[1][0])\n",
    "print (accuracy_model1, '% of testing data was classified correctly')"
   ]
  }
 ],
 "metadata": {
  "kernelspec": {
   "display_name": "Python 3",
   "language": "python",
   "name": "python3"
  },
  "language_info": {
   "codemirror_mode": {
    "name": "ipython",
    "version": 3
   },
   "file_extension": ".py",
   "mimetype": "text/x-python",
   "name": "python",
   "nbconvert_exporter": "python",
   "pygments_lexer": "ipython3",
   "version": "3.10.1"
  }
 },
 "nbformat": 4,
 "nbformat_minor": 2
}
